{
 "cells": [
  {
   "cell_type": "markdown",
   "metadata": {
    "colab_type": "text",
    "id": "view-in-github"
   },
   "source": [
    "<a href=\"https://colab.research.google.com/github/sayarghoshroy/Roll-Call/blob/main/roll_call.ipynb\" target=\"_parent\"><img src=\"https://colab.research.google.com/assets/colab-badge.svg\" alt=\"Open In Colab\"/></a>"
   ]
  },
  {
   "cell_type": "code",
   "execution_count": 1,
   "metadata": {
    "id": "l2Sj__YIcaaK"
   },
   "outputs": [],
   "source": [
    "# Read and Process Raw Data from a `docx` file"
   ]
  },
  {
   "cell_type": "code",
   "execution_count": 2,
   "metadata": {
    "id": "Y8WJCA-vdS3O"
   },
   "outputs": [],
   "source": [
    "# Uncomment to download and install\n",
    "# !pip install python-docx\n",
    "\n",
    "from docx import Document\n",
    "document = Document('raw.docx')"
   ]
  },
  {
   "cell_type": "code",
   "execution_count": 3,
   "metadata": {
    "colab": {
     "base_uri": "https://localhost:8080/"
    },
    "id": "W7XDXpGBdiB_",
    "outputId": "3e6b45c7-b5ae-47f5-e167-7619b1bd281b"
   },
   "outputs": [
    {
     "name": "stdout",
     "output_type": "stream",
     "text": [
      "Number of Names Extracted: 1041\n",
      "Number of Unique Names: 1012\n"
     ]
    }
   ],
   "source": [
    "all_names = []\n",
    "\n",
    "for paragraph in document.paragraphs:\n",
    "    # Process each paragraph unit separately\n",
    "    unit = paragraph.text.split(',')\n",
    "\n",
    "    # Handle empty units\n",
    "    if unit == [] or unit == ['']:\n",
    "        continue\n",
    "\n",
    "    for name in unit:\n",
    "    if name.strip() != '':\n",
    "        all_names.append(name.strip())\n",
    "\n",
    "print('Number of Names Extracted: ' + str(len(all_names)))\n",
    "all_names = list(set(all_names))\n",
    "\n",
    "print('Number of Unique Names: ' + str(len(all_names)))"
   ]
  },
  {
   "cell_type": "code",
   "execution_count": 4,
   "metadata": {
    "id": "i-nakqVtdzjs"
   },
   "outputs": [],
   "source": [
    "# Sort Unicode Strings\n",
    "all_names.sort()"
   ]
  },
  {
   "cell_type": "code",
   "execution_count": 5,
   "metadata": {
    "colab": {
     "base_uri": "https://localhost:8080/"
    },
    "id": "OppSx6Zaexx7",
    "outputId": "d6c487a7-8710-4acd-d2cd-1bd50791828d"
   },
   "outputs": [
    {
     "name": "stdout",
     "output_type": "stream",
     "text": [
      "1. অংশুপাল পুরকায়স্থ\n",
      "2. অংশুমান তালুকদার\n",
      "3. অচিন্ত্য গোস্বামী\n",
      "4. অচিন্ত্য মান্না\n",
      "5. অজয় ঘোষ\n"
     ]
    }
   ],
   "source": [
    "# Visualize Extracted Names\n",
    "limit = 5\n",
    "count = 1\n",
    "\n",
    "for unit in all_names:\n",
    "    if count > limit:\n",
    "        break\n",
    "    print(str(count) + '. ' + str(unit))\n",
    "    count += 1"
   ]
  },
  {
   "cell_type": "code",
   "execution_count": 6,
   "metadata": {
    "id": "sZOR_ZzZhmpm"
   },
   "outputs": [],
   "source": [
    "# Create Output Doc\n",
    "out = Document()\n",
    "\n",
    "output_string = ''\n",
    "size = len(all_names)\n",
    "\n",
    "for index, elem in enumerate(all_names):\n",
    "    if index == (size - 1):\n",
    "        output_string = output_string + elem\n",
    "    else:\n",
    "        output_string = output_string + elem + ', '\n",
    "\n",
    "out.add_paragraph(str(output_string))\n",
    "out.save('output.docx')"
   ]
  },
  {
   "cell_type": "code",
   "execution_count": 7,
   "metadata": {
    "id": "j_G2vESufHwh"
   },
   "outputs": [],
   "source": [
    "# Thank You"
   ]
  }
 ],
 "metadata": {
  "colab": {
   "authorship_tag": "ABX9TyPJG4igJoDQsZF4wjVmpNtO",
   "include_colab_link": true,
   "name": "roll-call.ipynb",
   "provenance": []
  },
  "kernelspec": {
   "display_name": "Python 3 (ipykernel)",
   "language": "python",
   "name": "python3"
  },
  "language_info": {
   "codemirror_mode": {
    "name": "ipython",
    "version": 3
   },
   "file_extension": ".py",
   "mimetype": "text/x-python",
   "name": "python",
   "nbconvert_exporter": "python",
   "pygments_lexer": "ipython3",
   "version": "3.9.13"
  }
 },
 "nbformat": 4,
 "nbformat_minor": 1
}
