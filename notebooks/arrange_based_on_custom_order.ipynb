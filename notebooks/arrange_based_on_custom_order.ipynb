{
 "cells": [
  {
   "cell_type": "code",
   "execution_count": 1,
   "id": "52237002",
   "metadata": {},
   "outputs": [],
   "source": [
    "# Uncomment to download and install\n",
    "# !pip install python-docx\n",
    "\n",
    "from docx import Document"
   ]
  },
  {
   "cell_type": "code",
   "execution_count": 2,
   "id": "2eb795dd",
   "metadata": {},
   "outputs": [],
   "source": [
    "def get_all_names(document):\n",
    "    all_names = []\n",
    "\n",
    "    for paragraph in document.paragraphs:\n",
    "        # Process each paragraph unit separately\n",
    "        unit = paragraph.text.split(',')\n",
    "\n",
    "        # Handle empty units\n",
    "        if unit == [] or unit == ['']:\n",
    "            continue\n",
    "\n",
    "        for name in unit:\n",
    "            if name and isinstance(name, str) and name.strip() != '':\n",
    "                all_names.append(name.strip())\n",
    "\n",
    "    print('Number of Names Extracted: ' + str(len(all_names)))\n",
    "    all_names = list(set(all_names))\n",
    "\n",
    "    print('Number of Unique Names: ' + str(len(all_names)))\n",
    "    \n",
    "    return all_names\n",
    "\n",
    "def top(k = 5):\n",
    "    # Visualize Extracted Names\n",
    "    count = 1\n",
    "\n",
    "    for count, unit in enumerate(all_names):\n",
    "        if count > k:\n",
    "            break\n",
    "        print(str(count) + '. ' + str(unit))\n",
    "        count += 1\n",
    "        \n",
    "def get_order(order_file):\n",
    "    char_order = []\n",
    "    with open(order_file, 'r+') as f:\n",
    "        order = f.read().split('\\n')\n",
    "    char_order = [c for c in order if c and c.strip() != '']\n",
    "    char_order.append(' ')\n",
    "    \n",
    "    char_to_rank = {}\n",
    "    for rank, c in enumerate(char_order):\n",
    "        char_to_rank[c] = rank\n",
    "    \n",
    "    return char_to_rank\n",
    "    \n",
    "def custom_sort(names, char_to_rank):\n",
    "    name_ranks = []\n",
    "    \n",
    "    for name in names:\n",
    "        name_rank = []\n",
    "        for c in name:\n",
    "            name_rank.append(char_to_rank[c])\n",
    "        name_ranks.append([tuple(name_rank), name])\n",
    "    \n",
    "    name_ranks = sorted(name_ranks)\n",
    "    print('Number of names: ' + str(len(names)))\n",
    "    return [unit[1] for unit in name_ranks]\n",
    "\n",
    "def create_output(names, output_file):\n",
    "    global location\n",
    "    # Create Output Doc\n",
    "    out = Document()\n",
    "\n",
    "    output_string = ''\n",
    "    \n",
    "    for name in names:\n",
    "        output_string += str(name) + ', '\n",
    "\n",
    "    output_string = str(output_string[0 : -2])\n",
    "    out.add_paragraph(output_string)\n",
    "    out.save(output_file)"
   ]
  },
  {
   "cell_type": "code",
   "execution_count": 3,
   "id": "80b0e43a",
   "metadata": {},
   "outputs": [
    {
     "name": "stdout",
     "output_type": "stream",
     "text": [
      "Number of Names Extracted: 939\n",
      "Number of Unique Names: 839\n",
      "Number of names: 839\n"
     ]
    }
   ],
   "source": [
    "location = '../samples/'\n",
    "input_file = 'input_B.docx'\n",
    "output_file = 'output_B.docx'\n",
    "\n",
    "document = Document(location + input_file)\n",
    "names = get_all_names(document)\n",
    "\n",
    "order_file = '../order.txt'\n",
    "char_to_rank = get_order(order_file)\n",
    "\n",
    "ordered_names = custom_sort(names, char_to_rank)\n",
    "\n",
    "create_output(ordered_names, location + output_file)"
   ]
  },
  {
   "cell_type": "code",
   "execution_count": 4,
   "id": "0f3a5391",
   "metadata": {},
   "outputs": [],
   "source": [
    "# That's it"
   ]
  }
 ],
 "metadata": {
  "kernelspec": {
   "display_name": "Python 3 (ipykernel)",
   "language": "python",
   "name": "python3"
  },
  "language_info": {
   "codemirror_mode": {
    "name": "ipython",
    "version": 3
   },
   "file_extension": ".py",
   "mimetype": "text/x-python",
   "name": "python",
   "nbconvert_exporter": "python",
   "pygments_lexer": "ipython3",
   "version": "3.9.13"
  }
 },
 "nbformat": 4,
 "nbformat_minor": 5
}
