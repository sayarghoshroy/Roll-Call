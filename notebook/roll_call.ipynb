{
  "nbformat": 4,
  "nbformat_minor": 0,
  "metadata": {
    "colab": {
      "name": "roll-call.ipynb",
      "provenance": [],
      "authorship_tag": "ABX9TyPJG4igJoDQsZF4wjVmpNtO",
      "include_colab_link": true
    },
    "kernelspec": {
      "name": "python3",
      "display_name": "Python 3"
    }
  },
  "cells": [
    {
      "cell_type": "markdown",
      "metadata": {
        "id": "view-in-github",
        "colab_type": "text"
      },
      "source": [
        "<a href=\"https://colab.research.google.com/github/sayarghoshroy/Roll-Call/blob/main/roll_call.ipynb\" target=\"_parent\"><img src=\"https://colab.research.google.com/assets/colab-badge.svg\" alt=\"Open In Colab\"/></a>"
      ]
    },
    {
      "cell_type": "code",
      "metadata": {
        "id": "l2Sj__YIcaaK"
      },
      "source": [
        "# Read and Process Raw Data from a `docx` file"
      ],
      "execution_count": 1,
      "outputs": []
    },
    {
      "cell_type": "code",
      "metadata": {
        "id": "Y8WJCA-vdS3O"
      },
      "source": [
        "# Trying out the `python-docx` library \n",
        "\n",
        "# Uncomment to download and install\n",
        "# !pip install python-docx\n",
        "from docx import Document\n",
        "document = Document('raw.docx')"
      ],
      "execution_count": 2,
      "outputs": []
    },
    {
      "cell_type": "code",
      "metadata": {
        "colab": {
          "base_uri": "https://localhost:8080/"
        },
        "id": "W7XDXpGBdiB_",
        "outputId": "3e6b45c7-b5ae-47f5-e167-7619b1bd281b"
      },
      "source": [
        "all_names = []\n",
        "\n",
        "for paragraph in document.paragraphs:\n",
        "  # Process each paragraph unit separately\n",
        "  unit = paragraph.text.split(',')\n",
        "  \n",
        "  # Handle empty units\n",
        "  if unit == [] or unit == ['']:\n",
        "    continue\n",
        "  \n",
        "  for name in unit:\n",
        "    if name.strip() != '':\n",
        "      all_names.append(name.strip())\n",
        "\n",
        "print('Number of Names Extracted: ' + str(len(all_names)))\n",
        "all_names = list(set(all_names))\n",
        "\n",
        "print('Number of Unique Names: ' + str(len(all_names)))"
      ],
      "execution_count": 3,
      "outputs": [
        {
          "output_type": "stream",
          "text": [
            "Number of Names Extracted: 1041\n",
            "Number of Unique Names: 1012\n"
          ],
          "name": "stdout"
        }
      ]
    },
    {
      "cell_type": "code",
      "metadata": {
        "id": "i-nakqVtdzjs"
      },
      "source": [
        "# Sort Unicode Strings\n",
        "all_names.sort()"
      ],
      "execution_count": 4,
      "outputs": []
    },
    {
      "cell_type": "code",
      "metadata": {
        "colab": {
          "base_uri": "https://localhost:8080/"
        },
        "id": "OppSx6Zaexx7",
        "outputId": "d6c487a7-8710-4acd-d2cd-1bd50791828d"
      },
      "source": [
        "# Visualize Extracted Names\n",
        "limit = 5\n",
        "count = 1\n",
        "\n",
        "for unit in all_names:\n",
        "  if count > limit:\n",
        "    break\n",
        "  print(str(count) +\". \" +str(unit))\n",
        "  count += 1"
      ],
      "execution_count": 5,
      "outputs": [
        {
          "output_type": "stream",
          "text": [
            "1. অংশুপাল পুরকায়স্থ\n",
            "2. অংশুমান তালুকদার\n",
            "3. অচিন্ত্য গোস্বামী\n",
            "4. অচিন্ত্য মান্না\n",
            "5. অজয় ঘোষ\n"
          ],
          "name": "stdout"
        }
      ]
    },
    {
      "cell_type": "code",
      "metadata": {
        "id": "sZOR_ZzZhmpm"
      },
      "source": [
        "# Create Output Doc\n",
        "out = Document()\n",
        "\n",
        "output_string = ''\n",
        "size = len(all_names)\n",
        "\n",
        "for index, elem in enumerate(all_names):\n",
        "  if index == (size - 1):\n",
        "    output_string = output_string + elem\n",
        "  else:\n",
        "    output_string = output_string + elem + ', '\n",
        "\n",
        "out.add_paragraph(str(output_string))\n",
        "out.save('output.docx')"
      ],
      "execution_count": 6,
      "outputs": []
    },
    {
      "cell_type": "code",
      "metadata": {
        "id": "j_G2vESufHwh"
      },
      "source": [
        "# Thank You"
      ],
      "execution_count": 7,
      "outputs": []
    }
  ]
}